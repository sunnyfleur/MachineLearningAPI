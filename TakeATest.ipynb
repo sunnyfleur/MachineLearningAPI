{
 "cells": [
  {
   "cell_type": "code",
   "execution_count": null,
   "metadata": {},
   "outputs": [],
   "source": [
    "from flask import Flask, request, jsonify\n",
    "import joblib\n",
    "import numpy as np\n",
    "import pandas as pd\n",
    "\n",
    "app = Flask(__name__)\n",
    "\n",
    "# Load các mô hình và dữ liệu đã được lưu trữ\n",
    "kmeans = joblib.load('kmeans_model.pkl')\n",
    "scaler = joblib.load(\"scaler.save\")\n",
    "pca = joblib.load(\"pca.save\")\n",
    "\n",
    "clustered_data_df = pd.read_csv('clustered_data.csv')\n",
    "\n",
    "@app.route('/predict', methods=['POST'])\n",
    "def predict():\n",
    "    data = request.get_json(force=True)\n",
    "    input_data = np.array(data['input']).reshape(1, -1)\n",
    "\n",
    "    # Chuẩn hóa dữ liệu\n",
    "    scaled_input = scaler.transform(input_data)\n",
    "\n",
    "    # Giảm chiều dữ liệu\n",
    "    reduced_input = pca.transform(scaled_input)\n",
    "\n",
    "    # Dự đoán cụm bằng KMeans\n",
    "    cluster = kmeans.predict(reduced_input)\n",
    "\n",
    "    # Xác định nhóm chi tiêu dựa trên cụm\n",
    "    if cluster[0] == 0:\n",
    "        cluster_description = \"nhóm chi tiêu thấp\"\n",
    "    elif cluster[0] == 1:\n",
    "        cluster_description = \"nhóm chi tiêu cao\"\n",
    "    else:\n",
    "        cluster_description = \"không xác định\"\n",
    "\n",
    "    return jsonify({'cluster': int(cluster[0]), 'description': cluster_description})\n",
    "\n",
    "@app.route('/clusters', methods=['GET'])\n",
    "def clusters():\n",
    "    cluster_0_data = clustered_data_df[clustered_data_df['Clusters'] == 0].drop(columns=['Clusters']).values.tolist()\n",
    "    cluster_1_data = clustered_data_df[clustered_data_df['Clusters'] == 1].drop(columns=['Clusters']).values.tolist()\n",
    "\n",
    "    return jsonify({'cluster_0': cluster_0_data, 'cluster_1': cluster_1_data})\n",
    "\n",
    "if __name__ == '__main__':\n",
    "    app.run(debug=True, use_reloader=False, port=5000)"
   ]
  }
 ],
 "metadata": {
  "language_info": {
   "name": "python"
  }
 },
 "nbformat": 4,
 "nbformat_minor": 2
}
